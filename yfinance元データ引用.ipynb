{
 "cells": [
  {
   "cell_type": "code",
   "execution_count": 11,
   "id": "87e43cf5-45c1-4161-97f3-dfa5baa8b151",
   "metadata": {},
   "outputs": [
    {
     "name": "stderr",
     "output_type": "stream",
     "text": [
      "[*********************100%%**********************]  1 of 1 completed\n"
     ]
    }
   ],
   "source": [
    "import yfinance as yf\n",
    "import pandas as pd\n",
    "\n",
    "# 株価データを取得する銘柄のシンボル\n",
    "ticker_symbol = \"AAPL\"  # 例: Appleの場合\n",
    "\n",
    "# 株価データを取得\n",
    "stock_data = yf.download(ticker_symbol, start=\"2022-01-01\", end=\"2022-12-31\")\n",
    "\n",
    "# エクセルファイルに保存\n",
    "stock_data.to_excel(\"Apple_data_2022.xlsx\")\n",
    "\n",
    "# エクセルファイルを読み込む\n",
    "data = pd.read_excel(\"Apple_data_2022.xlsx\")\n"
   ]
  },
  {
   "cell_type": "code",
   "execution_count": null,
   "id": "c7125f3d-c027-47e7-81c1-0e98e4afe880",
   "metadata": {},
   "outputs": [],
   "source": []
  }
 ],
 "metadata": {
  "kernelspec": {
   "display_name": "Python 3 (ipykernel)",
   "language": "python",
   "name": "python3"
  },
  "language_info": {
   "codemirror_mode": {
    "name": "ipython",
    "version": 3
   },
   "file_extension": ".py",
   "mimetype": "text/x-python",
   "name": "python",
   "nbconvert_exporter": "python",
   "pygments_lexer": "ipython3",
   "version": "3.11.7"
  }
 },
 "nbformat": 4,
 "nbformat_minor": 5
}
